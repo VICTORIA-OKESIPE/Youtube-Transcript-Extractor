{
  "nbformat": 4,
  "nbformat_minor": 0,
  "metadata": {
    "colab": {
      "provenance": []
    },
    "kernelspec": {
      "name": "python3",
      "display_name": "Python 3"
    },
    "language_info": {
      "name": "python"
    }
  },
  "cells": [
    {
      "cell_type": "code",
      "source": [
        "!pip install youtube_transcript_api"
      ],
      "metadata": {
        "colab": {
          "base_uri": "https://localhost:8080/"
        },
        "id": "s71yvX2Nag7k",
        "outputId": "1439459f-dfd3-4481-947c-42aaba1eb8e0"
      },
      "execution_count": 44,
      "outputs": [
        {
          "output_type": "stream",
          "name": "stdout",
          "text": [
            "Looking in indexes: https://pypi.org/simple, https://us-python.pkg.dev/colab-wheels/public/simple/\n",
            "Collecting youtube_transcript_api\n",
            "  Downloading youtube_transcript_api-0.6.0-py3-none-any.whl (23 kB)\n",
            "Requirement already satisfied: requests in /usr/local/lib/python3.9/dist-packages (from youtube_transcript_api) (2.27.1)\n",
            "Requirement already satisfied: certifi>=2017.4.17 in /usr/local/lib/python3.9/dist-packages (from requests->youtube_transcript_api) (2022.12.7)\n",
            "Requirement already satisfied: charset-normalizer~=2.0.0 in /usr/local/lib/python3.9/dist-packages (from requests->youtube_transcript_api) (2.0.12)\n",
            "Requirement already satisfied: urllib3<1.27,>=1.21.1 in /usr/local/lib/python3.9/dist-packages (from requests->youtube_transcript_api) (1.26.15)\n",
            "Requirement already satisfied: idna<4,>=2.5 in /usr/local/lib/python3.9/dist-packages (from requests->youtube_transcript_api) (3.4)\n",
            "Installing collected packages: youtube_transcript_api\n",
            "Successfully installed youtube_transcript_api-0.6.0\n"
          ]
        }
      ]
    },
    {
      "cell_type": "code",
      "source": [
        "import youtube_transcript_api\n",
        "from youtube_transcript_api import YouTubeTranscriptApi\n",
        "import nltk\n",
        "import re\n",
        "from nltk.corpus import stopwords\n",
        "import sklearn\n",
        "from sklearn.feature_extraction.text import TfidfVectorizer"
      ],
      "metadata": {
        "id": "z3vR5EnXIMrd"
      },
      "execution_count": 56,
      "outputs": []
    },
    {
      "cell_type": "code",
      "source": [
        "def youtube_transcript_summarizer(url):\n",
        "  unique_id = url.split(\"=\")[-1]\n",
        "  video_transcript = YouTubeTranscriptApi.get_transcript(unique_id)\n",
        "  transcript = \" \".join([i['text'] for i in video_transcript])\n",
        "  return transcript"
      ],
      "metadata": {
        "id": "TuGHHlpTeLKO"
      },
      "execution_count": 57,
      "outputs": []
    },
    {
      "cell_type": "code",
      "source": [
        "youtube_transcript_summarizer(\"https://www.youtube.com/watch?v=cObk0XWRN9k\")"
      ],
      "metadata": {
        "colab": {
          "base_uri": "https://localhost:8080/",
          "height": 244
        },
        "id": "jXiQGdQwbKtN",
        "outputId": "d3aaf068-d7d5-4d7c-b6e7-a9a70f7243a9"
      },
      "execution_count": 58,
      "outputs": [
        {
          "output_type": "execute_result",
          "data": {
            "text/plain": [
              "\"a Few years ago it became very clear that we wouldn't solve climate change without businesses. The reason we can deliver this degree here, is that we have both a very strong business school with leading world experts in finance and management But also top of the class research on the climate, on engineering, on finding new technical solutions and so at Imperial it was really the best place to deliver such a Master's I looked at Imperial specifically because of this particular masters. It's the only master's that offers the business fused with sustainability and climate change. The faculty who teach us they are actively engaged in climate change in one way or the other, which means that the kind of insights they're able to give us in class are unparalleled and not something that you could read off a book or an article The cohort is extremely diverse and when I say diversity it's not just in terms of the nationalities and cultures my classmates come from there's also diversity in terms of the academic background some of us are from an engineering background. There's some others from Natural Sciences some others from finance or economics which means that teamwork is very exciting. The students had a wide variety of internships as part of the course and quite a few of those internships turned into full-time jobs. Which is a great achievement of the programme. I'm currently working for a think-tank where I actually apply all my knowledge and finance and these environmental topics, and I woul definitely not have the role I have now if I didn't study these masters I have some more opportunities now of jobs that I want to do and jobs I feel I'm qualified for thanks to the masters My job involves partnerships going out meeting different companies working out how we can work together and create new products to bring to the energy market. I'm constantly putting into practice things that I learned during the course and also taking advantage of networks that I've created during the course to go out and find new opportunities for the business From a professional, and I suppose a student perspective London I think offers far more than any city. I've ever studied it and say there's so much Available to students free or discounted Yeah from that perspective, I think London is a great place to learn and connect to industry The students from this course can go in really any Career that you can think of why because climate change is a problem that needs to be addressed from every single sector of the economy from consulting to energy companies to manufacturing to the food industry to services in every single sector something needs to be done to address the problem and to reap the Opportunities that arise from it. By training the students and giving them the knowledge they need it will actually have an impact that's very wide and I can see 20 years from now my students having leadership positions in a great variety of organizations and different countries and bringing the change that society needs.\""
            ],
            "application/vnd.google.colaboratory.intrinsic+json": {
              "type": "string"
            }
          },
          "metadata": {},
          "execution_count": 58
        }
      ]
    },
    {
      "cell_type": "code",
      "source": [],
      "metadata": {
        "id": "UpWBo1QgbZLf"
      },
      "execution_count": null,
      "outputs": []
    }
  ]
}